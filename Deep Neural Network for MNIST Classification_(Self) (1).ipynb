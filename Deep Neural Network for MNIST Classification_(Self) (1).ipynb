{
 "cells": [
  {
   "cell_type": "markdown",
   "id": "02e6a7c2",
   "metadata": {},
   "source": [
    "# <span style='color:blue'> Introduction</span>"
   ]
  },
  {
   "cell_type": "markdown",
   "id": "9c56c53c",
   "metadata": {},
   "source": [
    "**MNIST** (\"Modified National Institute of Standards and Technology\") is the de facto “Hello World” dataset of computer vision. Since its release in 1999, this classic dataset of handwritten images has served as the basis for benchmarking classification algorithms. As new machine learning techniques emerge, MNIST remains a reliable resource for researchers and learners alike.\n",
    "\n",
    "The MNIST database contains 60,000 training images and 10,000 testing images\n"
   ]
  },
  {
   "cell_type": "markdown",
   "id": "7619c12c",
   "metadata": {},
   "source": [
    "# Importing necessary library"
   ]
  },
  {
   "cell_type": "code",
   "execution_count": 1,
   "id": "dffba1fb",
   "metadata": {},
   "outputs": [],
   "source": [
    "import pandas as pd\n",
    "import numpy as np\n",
    "import tensorflow as tf\n",
    "import matplotlib.pyplot as plt\n",
    "import seaborn as sns"
   ]
  },
  {
   "cell_type": "code",
   "execution_count": 2,
   "id": "8abfb47e",
   "metadata": {},
   "outputs": [
    {
     "name": "stdout",
     "output_type": "stream",
     "text": [
      "Requirement already satisfied: tensorflow-datasets in c:\\users\\ajay2\\anaconda3\\lib\\site-packages (4.6.0)\n",
      "Requirement already satisfied: protobuf>=3.12.2 in c:\\users\\ajay2\\anaconda3\\lib\\site-packages (from tensorflow-datasets) (3.19.1)\n",
      "Requirement already satisfied: promise in c:\\users\\ajay2\\anaconda3\\lib\\site-packages (from tensorflow-datasets) (2.3)\n",
      "Requirement already satisfied: tqdm in c:\\users\\ajay2\\anaconda3\\lib\\site-packages (from tensorflow-datasets) (4.64.0)\n",
      "Requirement already satisfied: toml in c:\\users\\ajay2\\anaconda3\\lib\\site-packages (from tensorflow-datasets) (0.10.2)\n",
      "Requirement already satisfied: absl-py in c:\\users\\ajay2\\anaconda3\\lib\\site-packages (from tensorflow-datasets) (1.1.0)\n",
      "Requirement already satisfied: termcolor in c:\\users\\ajay2\\anaconda3\\lib\\site-packages (from tensorflow-datasets) (1.1.0)\n",
      "Requirement already satisfied: six in c:\\users\\ajay2\\anaconda3\\lib\\site-packages (from tensorflow-datasets) (1.16.0)\n",
      "Requirement already satisfied: requests>=2.19.0 in c:\\users\\ajay2\\anaconda3\\lib\\site-packages (from tensorflow-datasets) (2.27.1)\n",
      "Requirement already satisfied: tensorflow-metadata in c:\\users\\ajay2\\anaconda3\\lib\\site-packages (from tensorflow-datasets) (1.8.0)\n",
      "Requirement already satisfied: dill in c:\\users\\ajay2\\anaconda3\\lib\\site-packages (from tensorflow-datasets) (0.3.5.1)\n",
      "Requirement already satisfied: numpy in c:\\users\\ajay2\\anaconda3\\lib\\site-packages (from tensorflow-datasets) (1.21.5)\n",
      "Requirement already satisfied: etils[epath] in c:\\users\\ajay2\\anaconda3\\lib\\site-packages (from tensorflow-datasets) (0.6.0)\n",
      "Requirement already satisfied: certifi>=2017.4.17 in c:\\users\\ajay2\\anaconda3\\lib\\site-packages (from requests>=2.19.0->tensorflow-datasets) (2021.10.8)\n",
      "Requirement already satisfied: urllib3<1.27,>=1.21.1 in c:\\users\\ajay2\\anaconda3\\lib\\site-packages (from requests>=2.19.0->tensorflow-datasets) (1.26.9)\n",
      "Requirement already satisfied: charset-normalizer~=2.0.0 in c:\\users\\ajay2\\anaconda3\\lib\\site-packages (from requests>=2.19.0->tensorflow-datasets) (2.0.4)\n",
      "Requirement already satisfied: idna<4,>=2.5 in c:\\users\\ajay2\\anaconda3\\lib\\site-packages (from requests>=2.19.0->tensorflow-datasets) (3.3)\n",
      "Requirement already satisfied: importlib_resources in c:\\users\\ajay2\\anaconda3\\lib\\site-packages (from etils[epath]->tensorflow-datasets) (5.7.1)\n",
      "Requirement already satisfied: zipp in c:\\users\\ajay2\\anaconda3\\lib\\site-packages (from etils[epath]->tensorflow-datasets) (3.7.0)\n",
      "Requirement already satisfied: typing_extensions in c:\\users\\ajay2\\anaconda3\\lib\\site-packages (from etils[epath]->tensorflow-datasets) (4.1.1)\n",
      "Requirement already satisfied: googleapis-common-protos<2,>=1.52.0 in c:\\users\\ajay2\\anaconda3\\lib\\site-packages (from tensorflow-metadata->tensorflow-datasets) (1.53.0)\n",
      "Requirement already satisfied: colorama in c:\\users\\ajay2\\anaconda3\\lib\\site-packages (from tqdm->tensorflow-datasets) (0.4.4)\n"
     ]
    }
   ],
   "source": [
    "!pip install tensorflow-datasets"
   ]
  },
  {
   "cell_type": "code",
   "execution_count": 3,
   "id": "920cd4dd",
   "metadata": {},
   "outputs": [],
   "source": [
    "import tensorflow_datasets as tfds        # importing tensorflow dataset"
   ]
  },
  {
   "cell_type": "code",
   "execution_count": 4,
   "id": "5389955b",
   "metadata": {},
   "outputs": [
    {
     "data": {
      "text/plain": [
       "<module 'tensorflow_datasets' from 'C:\\\\Users\\\\ajay2\\\\anaconda3\\\\lib\\\\site-packages\\\\tensorflow_datasets\\\\__init__.py'>"
      ]
     },
     "execution_count": 4,
     "metadata": {},
     "output_type": "execute_result"
    }
   ],
   "source": [
    "tfds"
   ]
  },
  {
   "cell_type": "code",
   "execution_count": 5,
   "id": "2dc8d0e8",
   "metadata": {},
   "outputs": [],
   "source": [
    "# loading the mnist data set.\n",
    "\n",
    "mnist_dataset, mnist_info= tfds.load(name='mnist', as_supervised=True, with_info=True)   \n",
    "\n",
    "# with 'as_supervised=True, will load the dataset in a 2-tuple structure (input, target)\n",
    "# with_info=True will also provide us with a tuple containing information about the version, features, number of samples"
   ]
  },
  {
   "cell_type": "code",
   "execution_count": 6,
   "id": "0564da8f",
   "metadata": {},
   "outputs": [
    {
     "data": {
      "text/plain": [
       "tfds.core.DatasetInfo(\n",
       "    name='mnist',\n",
       "    full_name='mnist/3.0.1',\n",
       "    description=\"\"\"\n",
       "    The MNIST database of handwritten digits.\n",
       "    \"\"\",\n",
       "    homepage='http://yann.lecun.com/exdb/mnist/',\n",
       "    data_path='~\\\\tensorflow_datasets\\\\mnist\\\\3.0.1',\n",
       "    file_format=tfrecord,\n",
       "    download_size=11.06 MiB,\n",
       "    dataset_size=21.00 MiB,\n",
       "    features=FeaturesDict({\n",
       "        'image': Image(shape=(28, 28, 1), dtype=tf.uint8),\n",
       "        'label': ClassLabel(shape=(), dtype=tf.int64, num_classes=10),\n",
       "    }),\n",
       "    supervised_keys=('image', 'label'),\n",
       "    disable_shuffling=False,\n",
       "    splits={\n",
       "        'test': <SplitInfo num_examples=10000, num_shards=1>,\n",
       "        'train': <SplitInfo num_examples=60000, num_shards=1>,\n",
       "    },\n",
       "    citation=\"\"\"@article{lecun2010mnist,\n",
       "      title={MNIST handwritten digit database},\n",
       "      author={LeCun, Yann and Cortes, Corinna and Burges, CJ},\n",
       "      journal={ATT Labs [Online]. Available: http://yann.lecun.com/exdb/mnist},\n",
       "      volume={2},\n",
       "      year={2010}\n",
       "    }\"\"\",\n",
       ")"
      ]
     },
     "execution_count": 6,
     "metadata": {},
     "output_type": "execute_result"
    }
   ],
   "source": [
    "mnist_info"
   ]
  },
  {
   "cell_type": "markdown",
   "id": "5e9edad4",
   "metadata": {},
   "source": [
    "# Loading and Pre-Processing the data"
   ]
  },
  {
   "cell_type": "code",
   "execution_count": 7,
   "id": "db3ef5ff",
   "metadata": {},
   "outputs": [],
   "source": [
    "mnist_train, mnist_test = mnist_dataset['train'], mnist_dataset['test']\n",
    "# by default, TF has training and testing datasets, but no validation sets.\n",
    "# So we will split on our own to create validation data.\n",
    "\n",
    "num_validation_samples= 0.1*mnist_info.splits['train'].num_examples     # 10% of data set for validation purpose.\n",
    "num_validation_samples = tf.cast(num_validation_samples, tf.int64)      # casting numbers into integer, tu avoid any errors.\n",
    "\n",
    "num_test_samples =mnist_info.splits['test'].num_examples          # Storing test samples.\n",
    "num_test_samples = tf.cast(num_test_samples, tf.int64)\n",
    "\n",
    "def scale(image, label):                     # 'scale' will take an MNIST image and its label.\n",
    "    image = tf.cast(image, tf.float32)\n",
    "    image /= 255.\n",
    "    return image,label\n",
    "\n",
    "scaled_train_and_validation_data = mnist_train.map(scale)\n",
    "test_data = mnist_test.map(scale)\n",
    "\n",
    "BUFFER_SIZE = 10000        # defining buffer size\n",
    "\n",
    "shuffled_train_and_validation_data= scaled_train_and_validation_data.shuffle(BUFFER_SIZE)     # shuffling the data\n",
    "\n",
    "validation_data = shuffled_train_and_validation_data.take(num_validation_samples)\n",
    "\n",
    "train_data = shuffled_train_and_validation_data.skip(num_validation_samples)\n",
    "\n",
    "BATCH_SIZE= 100                   # defining the batch size\n",
    "\n",
    "train_data=train_data.batch(BATCH_SIZE)                # batching the train data\n",
    "\n",
    "test_data= test_data.batch(num_test_samples)           # batching the test data\n",
    "\n",
    "validation_data= validation_data.batch(num_validation_samples) \n",
    "\n",
    "validation_inputs, validation_targets = next(iter(validation_data))"
   ]
  },
  {
   "cell_type": "markdown",
   "id": "3a6aa8ab",
   "metadata": {},
   "source": [
    "# MODEL\n",
    "\n",
    "**Outline the model**"
   ]
  },
  {
   "cell_type": "code",
   "execution_count": 8,
   "id": "c173887a",
   "metadata": {},
   "outputs": [],
   "source": [
    "input_size = 784                           # defining number of inputs  \n",
    "output_size = 10                           # defining number of outputs\n",
    "hidden_layer_size = 50                     # defining hidden layers in the neural network.\n",
    "model= tf.keras.Sequential([\n",
    "                             tf.keras.layers.Flatten(input_shape=(28,28,1)),                     # input layer\n",
    "                             tf.keras.layers.Dense(hidden_layer_size, activation='relu'),        # 1st hidden layer\n",
    "                             tf.keras.layers.Dense(hidden_layer_size, activation='relu'),        # 2nd hidden layer\n",
    "                             tf.keras.layers.Dense(output_size, activation = 'softmax')          # output layer\n",
    "                            ])\n"
   ]
  },
  {
   "cell_type": "markdown",
   "id": "4791b7a6",
   "metadata": {},
   "source": [
    "# Choose the optimizer and the Loss function"
   ]
  },
  {
   "cell_type": "code",
   "execution_count": 9,
   "id": "74b0947e",
   "metadata": {},
   "outputs": [],
   "source": [
    "model.compile(optimizer='adam', loss='sparse_categorical_crossentropy', metrics=['accuracy'])"
   ]
  },
  {
   "cell_type": "markdown",
   "id": "ef9729a1",
   "metadata": {},
   "source": [
    "# Training"
   ]
  },
  {
   "cell_type": "code",
   "execution_count": 10,
   "id": "a8b7e0a1",
   "metadata": {},
   "outputs": [
    {
     "name": "stdout",
     "output_type": "stream",
     "text": [
      "Epoch 1/10\n",
      "540/540 - 1s - loss: 0.4118 - accuracy: 0.8822 - val_loss: 0.2124 - val_accuracy: 0.9377 - 1s/epoch - 3ms/step\n",
      "Epoch 2/10\n",
      "540/540 - 1s - loss: 0.1797 - accuracy: 0.9478 - val_loss: 0.1598 - val_accuracy: 0.9520 - 872ms/epoch - 2ms/step\n",
      "Epoch 3/10\n",
      "540/540 - 1s - loss: 0.1389 - accuracy: 0.9590 - val_loss: 0.1326 - val_accuracy: 0.9600 - 837ms/epoch - 2ms/step\n",
      "Epoch 4/10\n",
      "540/540 - 1s - loss: 0.1138 - accuracy: 0.9670 - val_loss: 0.1164 - val_accuracy: 0.9680 - 819ms/epoch - 2ms/step\n",
      "Epoch 5/10\n",
      "540/540 - 1s - loss: 0.0972 - accuracy: 0.9711 - val_loss: 0.1045 - val_accuracy: 0.9695 - 745ms/epoch - 1ms/step\n",
      "Epoch 6/10\n",
      "540/540 - 1s - loss: 0.0831 - accuracy: 0.9755 - val_loss: 0.0897 - val_accuracy: 0.9738 - 762ms/epoch - 1ms/step\n",
      "Epoch 7/10\n",
      "540/540 - 1s - loss: 0.0737 - accuracy: 0.9775 - val_loss: 0.0889 - val_accuracy: 0.9737 - 805ms/epoch - 1ms/step\n",
      "Epoch 8/10\n",
      "540/540 - 1s - loss: 0.0675 - accuracy: 0.9801 - val_loss: 0.0800 - val_accuracy: 0.9753 - 802ms/epoch - 1ms/step\n",
      "Epoch 9/10\n",
      "540/540 - 1s - loss: 0.0582 - accuracy: 0.9828 - val_loss: 0.0791 - val_accuracy: 0.9767 - 855ms/epoch - 2ms/step\n",
      "Epoch 10/10\n",
      "540/540 - 1s - loss: 0.0535 - accuracy: 0.9836 - val_loss: 0.0629 - val_accuracy: 0.9812 - 766ms/epoch - 1ms/step\n"
     ]
    }
   ],
   "source": [
    "NUM_EPOCHS = 10\n",
    "\n",
    "history= model.fit(train_data, epochs= NUM_EPOCHS, validation_data=(validation_inputs, validation_targets), verbose=2)"
   ]
  },
  {
   "cell_type": "markdown",
   "id": "f306d453",
   "metadata": {},
   "source": [
    "# TEST"
   ]
  },
  {
   "cell_type": "code",
   "execution_count": 11,
   "id": "12042c31",
   "metadata": {},
   "outputs": [
    {
     "name": "stdout",
     "output_type": "stream",
     "text": [
      "1/1 [==============================] - 0s 113ms/step - loss: 0.0943 - accuracy: 0.9724\n"
     ]
    }
   ],
   "source": [
    "test_loss, test_accuracy = model.evaluate(test_data)"
   ]
  },
  {
   "cell_type": "code",
   "execution_count": 12,
   "id": "557a86ed",
   "metadata": {},
   "outputs": [
    {
     "data": {
      "text/plain": [
       "[<matplotlib.lines.Line2D at 0x29eafd2cb50>]"
      ]
     },
     "execution_count": 12,
     "metadata": {},
     "output_type": "execute_result"
    },
    {
     "data": {
      "image/png": "[encoded data removed]",
      "text/plain": [
       "<Figure size 432x288 with 1 Axes>"
      ]
     },
     "metadata": {
      "needs_background": "light"
     },
     "output_type": "display_data"
    }
   ],
   "source": [
    "plt.plot(history.history[\"loss\"])\n",
    "plt.plot(history.history[\"val_loss\"])"
   ]
  },
  {
   "cell_type": "code",
   "execution_count": 13,
   "id": "6256600b",
   "metadata": {},
   "outputs": [
    {
     "data": {
      "text/plain": [
       "[<matplotlib.lines.Line2D at 0x29eafe1aa90>]"
      ]
     },
     "execution_count": 13,
     "metadata": {},
     "output_type": "execute_result"
    },
    {
     "data": {
      "image/png": "[encoded data removed]",
      "text/plain": [
       "<Figure size 432x288 with 1 Axes>"
      ]
     },
     "metadata": {
      "needs_background": "light"
     },
     "output_type": "display_data"
    }
   ],
   "source": [
    "plt.plot(history.history[\"accuracy\"])\n",
    "plt.plot(history.history[\"val_accuracy\"])"
   ]
  },
  {
   "cell_type": "markdown",
   "id": "252e1145",
   "metadata": {},
   "source": [
    "# <span style='color:red'>Result:</span>\n",
    "The test predictions generated by our model predicts with an accuracy score of **97.24%**"
   ]
  },
  {
   "cell_type": "code",
   "execution_count": null,
   "id": "bed20939",
   "metadata": {},
   "outputs": [],
   "source": []
  }
 ],
 "metadata": {
  "kernelspec": {
   "display_name": "Python 3 (ipykernel)",
   "language": "python",
   "name": "python3"
  },
  "language_info": {
   "codemirror_mode": {
    "name": "ipython",
    "version": 3
   },
   "file_extension": ".py",
   "mimetype": "text/x-python",
   "name": "python",
   "nbconvert_exporter": "python",
   "pygments_lexer": "ipython3",
   "version": "3.9.12"
  }
 },
 "nbformat": 4,
 "nbformat_minor": 5
}
